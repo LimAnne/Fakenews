{
 "cells": [
  {
   "cell_type": "markdown",
   "id": "d7f1e5fa",
   "metadata": {},
   "source": [
    "## FakeNews - Model Building On Content (TD-IDF & Sentiment Features)"
   ]
  },
  {
   "cell_type": "markdown",
   "id": "454fc27e",
   "metadata": {},
   "source": [
    "## Read CSV files, drop columns, combine dataframes and pre-model preparation"
   ]
  },
  {
   "cell_type": "code",
   "execution_count": 1,
   "id": "8b9990b2",
   "metadata": {},
   "outputs": [],
   "source": [
    "import pandas as pd\n",
    "import numpy as np\n",
    "import matplotlib.pyplot as plt\n",
    "import seaborn as sns\n",
    "from datetime import datetime as dt\n",
    "from sklearn.metrics import accuracy_score, precision_score, recall_score, f1_score, roc_auc_score, average_precision_score"
   ]
  },
  {
   "cell_type": "code",
   "execution_count": 2,
   "id": "51233d2c",
   "metadata": {},
   "outputs": [
    {
     "data": {
      "text/html": [
       "<div>\n",
       "<style scoped>\n",
       "    .dataframe tbody tr th:only-of-type {\n",
       "        vertical-align: middle;\n",
       "    }\n",
       "\n",
       "    .dataframe tbody tr th {\n",
       "        vertical-align: top;\n",
       "    }\n",
       "\n",
       "    .dataframe thead th {\n",
       "        text-align: right;\n",
       "    }\n",
       "</style>\n",
       "<table border=\"1\" class=\"dataframe\">\n",
       "  <thead>\n",
       "    <tr style=\"text-align: right;\">\n",
       "      <th></th>\n",
       "      <th>Unnamed: 0</th>\n",
       "      <th>clean_content</th>\n",
       "      <th>clean_title</th>\n",
       "      <th>clean_text</th>\n",
       "      <th>label</th>\n",
       "      <th>titletext_blob_polarity</th>\n",
       "      <th>titletext_blob_subjectivity</th>\n",
       "      <th>title_sentiment_label</th>\n",
       "      <th>content_blob_polarity</th>\n",
       "      <th>content_subjectivity</th>\n",
       "      <th>content_sentiment_label</th>\n",
       "    </tr>\n",
       "  </thead>\n",
       "  <tbody>\n",
       "    <tr>\n",
       "      <th>0</th>\n",
       "      <td>0</td>\n",
       "      <td>LAW ENFORCEMENT ON HIGH ALERT Following Threat...</td>\n",
       "      <td>LAW ENFORCEMENT ON HIGH ALERT Following Threat...</td>\n",
       "      <td>No comment is expected from Barack Obama Membe...</td>\n",
       "      <td>1</td>\n",
       "      <td>0.08</td>\n",
       "      <td>0.32</td>\n",
       "      <td>1</td>\n",
       "      <td>0.034641</td>\n",
       "      <td>0.296824</td>\n",
       "      <td>1</td>\n",
       "    </tr>\n",
       "    <tr>\n",
       "      <th>1</th>\n",
       "      <td>1</td>\n",
       "      <td>Did they post their votes for Hillary already?</td>\n",
       "      <td></td>\n",
       "      <td>Did they post their votes for Hillary already?</td>\n",
       "      <td>1</td>\n",
       "      <td>0.00</td>\n",
       "      <td>0.00</td>\n",
       "      <td>0</td>\n",
       "      <td>0.000000</td>\n",
       "      <td>0.000000</td>\n",
       "      <td>0</td>\n",
       "    </tr>\n",
       "  </tbody>\n",
       "</table>\n",
       "</div>"
      ],
      "text/plain": [
       "   Unnamed: 0                                      clean_content  \\\n",
       "0           0  LAW ENFORCEMENT ON HIGH ALERT Following Threat...   \n",
       "1           1     Did they post their votes for Hillary already?   \n",
       "\n",
       "                                         clean_title  \\\n",
       "0  LAW ENFORCEMENT ON HIGH ALERT Following Threat...   \n",
       "1                                                      \n",
       "\n",
       "                                          clean_text  label  \\\n",
       "0  No comment is expected from Barack Obama Membe...      1   \n",
       "1     Did they post their votes for Hillary already?      1   \n",
       "\n",
       "   titletext_blob_polarity  titletext_blob_subjectivity  \\\n",
       "0                     0.08                         0.32   \n",
       "1                     0.00                         0.00   \n",
       "\n",
       "   title_sentiment_label  content_blob_polarity  content_subjectivity  \\\n",
       "0                      1               0.034641              0.296824   \n",
       "1                      0               0.000000              0.000000   \n",
       "\n",
       "   content_sentiment_label  \n",
       "0                        1  \n",
       "1                        0  "
      ]
     },
     "execution_count": 2,
     "metadata": {},
     "output_type": "execute_result"
    }
   ],
   "source": [
    "df = pd.read_csv(\"WELFake_sentiment_features.csv\")\n",
    "df.head(2)"
   ]
  },
  {
   "cell_type": "code",
   "execution_count": 3,
   "id": "af42cf92",
   "metadata": {},
   "outputs": [
    {
     "data": {
      "text/html": [
       "<div>\n",
       "<style scoped>\n",
       "    .dataframe tbody tr th:only-of-type {\n",
       "        vertical-align: middle;\n",
       "    }\n",
       "\n",
       "    .dataframe tbody tr th {\n",
       "        vertical-align: top;\n",
       "    }\n",
       "\n",
       "    .dataframe thead th {\n",
       "        text-align: right;\n",
       "    }\n",
       "</style>\n",
       "<table border=\"1\" class=\"dataframe\">\n",
       "  <thead>\n",
       "    <tr style=\"text-align: right;\">\n",
       "      <th></th>\n",
       "      <th>clean_content</th>\n",
       "      <th>label</th>\n",
       "      <th>num_words</th>\n",
       "      <th>num_special_char</th>\n",
       "      <th>num_sentence</th>\n",
       "      <th>liwc_results</th>\n",
       "      <th>number</th>\n",
       "      <th>ppron</th>\n",
       "      <th>swear</th>\n",
       "      <th>social</th>\n",
       "      <th>...</th>\n",
       "      <th>time</th>\n",
       "      <th>work</th>\n",
       "      <th>achieve</th>\n",
       "      <th>leisure</th>\n",
       "      <th>home</th>\n",
       "      <th>money</th>\n",
       "      <th>relig</th>\n",
       "      <th>death</th>\n",
       "      <th>verb</th>\n",
       "      <th>negate</th>\n",
       "    </tr>\n",
       "  </thead>\n",
       "  <tbody>\n",
       "    <tr>\n",
       "      <th>0</th>\n",
       "      <td>LAW ENFORCEMENT ON HIGH ALERT Following Threat...</td>\n",
       "      <td>1</td>\n",
       "      <td>889</td>\n",
       "      <td>187</td>\n",
       "      <td>47</td>\n",
       "      <td>{'cogmech': 0.10741138560687433, 'certain': 0....</td>\n",
       "      <td>0.017186</td>\n",
       "      <td>0.085929</td>\n",
       "      <td>0.006445</td>\n",
       "      <td>0.167562</td>\n",
       "      <td>...</td>\n",
       "      <td>0.044039</td>\n",
       "      <td>0.009667</td>\n",
       "      <td>0.011815</td>\n",
       "      <td>0.019334</td>\n",
       "      <td>0.001074</td>\n",
       "      <td>0.001074</td>\n",
       "      <td>0.001074</td>\n",
       "      <td>0.017186</td>\n",
       "      <td>0.121375</td>\n",
       "      <td>0.001074</td>\n",
       "    </tr>\n",
       "    <tr>\n",
       "      <th>1</th>\n",
       "      <td>Did they post their votes for Hillary already?</td>\n",
       "      <td>1</td>\n",
       "      <td>8</td>\n",
       "      <td>1</td>\n",
       "      <td>1</td>\n",
       "      <td>{'verb': 0.125, 'funct': 0.5, 'auxverb': 0.125...</td>\n",
       "      <td>0.000000</td>\n",
       "      <td>0.250000</td>\n",
       "      <td>0.000000</td>\n",
       "      <td>0.250000</td>\n",
       "      <td>...</td>\n",
       "      <td>0.125000</td>\n",
       "      <td>0.000000</td>\n",
       "      <td>0.000000</td>\n",
       "      <td>0.000000</td>\n",
       "      <td>0.000000</td>\n",
       "      <td>0.000000</td>\n",
       "      <td>0.000000</td>\n",
       "      <td>0.000000</td>\n",
       "      <td>0.125000</td>\n",
       "      <td>0.000000</td>\n",
       "    </tr>\n",
       "  </tbody>\n",
       "</table>\n",
       "<p>2 rows × 47 columns</p>\n",
       "</div>"
      ],
      "text/plain": [
       "                                       clean_content  label  num_words  \\\n",
       "0  LAW ENFORCEMENT ON HIGH ALERT Following Threat...      1        889   \n",
       "1     Did they post their votes for Hillary already?      1          8   \n",
       "\n",
       "   num_special_char  num_sentence  \\\n",
       "0               187            47   \n",
       "1                 1             1   \n",
       "\n",
       "                                        liwc_results    number     ppron  \\\n",
       "0  {'cogmech': 0.10741138560687433, 'certain': 0....  0.017186  0.085929   \n",
       "1  {'verb': 0.125, 'funct': 0.5, 'auxverb': 0.125...  0.000000  0.250000   \n",
       "\n",
       "      swear    social  ...      time      work   achieve   leisure      home  \\\n",
       "0  0.006445  0.167562  ...  0.044039  0.009667  0.011815  0.019334  0.001074   \n",
       "1  0.000000  0.250000  ...  0.125000  0.000000  0.000000  0.000000  0.000000   \n",
       "\n",
       "      money     relig     death      verb    negate  \n",
       "0  0.001074  0.001074  0.017186  0.121375  0.001074  \n",
       "1  0.000000  0.000000  0.000000  0.125000  0.000000  \n",
       "\n",
       "[2 rows x 47 columns]"
      ]
     },
     "execution_count": 3,
     "metadata": {},
     "output_type": "execute_result"
    }
   ],
   "source": [
    "df2 = pd.read_csv(\"welfake_content_linguistic_analysis_normalized.csv\")\n",
    "df2.head(2)"
   ]
  },
  {
   "cell_type": "code",
   "execution_count": 4,
   "id": "11d8f312",
   "metadata": {},
   "outputs": [
    {
     "data": {
      "text/html": [
       "<div>\n",
       "<style scoped>\n",
       "    .dataframe tbody tr th:only-of-type {\n",
       "        vertical-align: middle;\n",
       "    }\n",
       "\n",
       "    .dataframe tbody tr th {\n",
       "        vertical-align: top;\n",
       "    }\n",
       "\n",
       "    .dataframe thead th {\n",
       "        text-align: right;\n",
       "    }\n",
       "</style>\n",
       "<table border=\"1\" class=\"dataframe\">\n",
       "  <thead>\n",
       "    <tr style=\"text-align: right;\">\n",
       "      <th></th>\n",
       "      <th>clean_content</th>\n",
       "      <th>label</th>\n",
       "      <th>num_words</th>\n",
       "      <th>num_special_char</th>\n",
       "      <th>num_sentence</th>\n",
       "      <th>number</th>\n",
       "      <th>ppron</th>\n",
       "      <th>swear</th>\n",
       "      <th>social</th>\n",
       "      <th>family</th>\n",
       "      <th>...</th>\n",
       "      <th>time</th>\n",
       "      <th>work</th>\n",
       "      <th>achieve</th>\n",
       "      <th>leisure</th>\n",
       "      <th>home</th>\n",
       "      <th>money</th>\n",
       "      <th>relig</th>\n",
       "      <th>death</th>\n",
       "      <th>verb</th>\n",
       "      <th>negate</th>\n",
       "    </tr>\n",
       "  </thead>\n",
       "  <tbody>\n",
       "    <tr>\n",
       "      <th>0</th>\n",
       "      <td>LAW ENFORCEMENT ON HIGH ALERT Following Threat...</td>\n",
       "      <td>1</td>\n",
       "      <td>889</td>\n",
       "      <td>187</td>\n",
       "      <td>47</td>\n",
       "      <td>0.017186</td>\n",
       "      <td>0.085929</td>\n",
       "      <td>0.006445</td>\n",
       "      <td>0.167562</td>\n",
       "      <td>0.007519</td>\n",
       "      <td>...</td>\n",
       "      <td>0.044039</td>\n",
       "      <td>0.009667</td>\n",
       "      <td>0.011815</td>\n",
       "      <td>0.019334</td>\n",
       "      <td>0.001074</td>\n",
       "      <td>0.001074</td>\n",
       "      <td>0.001074</td>\n",
       "      <td>0.017186</td>\n",
       "      <td>0.121375</td>\n",
       "      <td>0.001074</td>\n",
       "    </tr>\n",
       "    <tr>\n",
       "      <th>1</th>\n",
       "      <td>Did they post their votes for Hillary already?</td>\n",
       "      <td>1</td>\n",
       "      <td>8</td>\n",
       "      <td>1</td>\n",
       "      <td>1</td>\n",
       "      <td>0.000000</td>\n",
       "      <td>0.250000</td>\n",
       "      <td>0.000000</td>\n",
       "      <td>0.250000</td>\n",
       "      <td>0.000000</td>\n",
       "      <td>...</td>\n",
       "      <td>0.125000</td>\n",
       "      <td>0.000000</td>\n",
       "      <td>0.000000</td>\n",
       "      <td>0.000000</td>\n",
       "      <td>0.000000</td>\n",
       "      <td>0.000000</td>\n",
       "      <td>0.000000</td>\n",
       "      <td>0.000000</td>\n",
       "      <td>0.125000</td>\n",
       "      <td>0.000000</td>\n",
       "    </tr>\n",
       "  </tbody>\n",
       "</table>\n",
       "<p>2 rows × 46 columns</p>\n",
       "</div>"
      ],
      "text/plain": [
       "                                       clean_content  label  num_words  \\\n",
       "0  LAW ENFORCEMENT ON HIGH ALERT Following Threat...      1        889   \n",
       "1     Did they post their votes for Hillary already?      1          8   \n",
       "\n",
       "   num_special_char  num_sentence    number     ppron     swear    social  \\\n",
       "0               187            47  0.017186  0.085929  0.006445  0.167562   \n",
       "1                 1             1  0.000000  0.250000  0.000000  0.250000   \n",
       "\n",
       "     family  ...      time      work   achieve   leisure      home     money  \\\n",
       "0  0.007519  ...  0.044039  0.009667  0.011815  0.019334  0.001074  0.001074   \n",
       "1  0.000000  ...  0.125000  0.000000  0.000000  0.000000  0.000000  0.000000   \n",
       "\n",
       "      relig     death      verb    negate  \n",
       "0  0.001074  0.017186  0.121375  0.001074  \n",
       "1  0.000000  0.000000  0.125000  0.000000  \n",
       "\n",
       "[2 rows x 46 columns]"
      ]
     },
     "execution_count": 4,
     "metadata": {},
     "output_type": "execute_result"
    }
   ],
   "source": [
    "df2 = df2.drop(\"liwc_results\", axis=1)\n",
    "df2.head(2)"
   ]
  },
  {
   "cell_type": "code",
   "execution_count": 5,
   "id": "bad1b23d",
   "metadata": {},
   "outputs": [
    {
     "data": {
      "text/html": [
       "<div>\n",
       "<style scoped>\n",
       "    .dataframe tbody tr th:only-of-type {\n",
       "        vertical-align: middle;\n",
       "    }\n",
       "\n",
       "    .dataframe tbody tr th {\n",
       "        vertical-align: top;\n",
       "    }\n",
       "\n",
       "    .dataframe thead th {\n",
       "        text-align: right;\n",
       "    }\n",
       "</style>\n",
       "<table border=\"1\" class=\"dataframe\">\n",
       "  <thead>\n",
       "    <tr style=\"text-align: right;\">\n",
       "      <th></th>\n",
       "      <th>Unnamed: 0</th>\n",
       "      <th>clean_content</th>\n",
       "      <th>clean_title</th>\n",
       "      <th>clean_text</th>\n",
       "      <th>label</th>\n",
       "      <th>titletext_blob_polarity</th>\n",
       "      <th>titletext_blob_subjectivity</th>\n",
       "      <th>title_sentiment_label</th>\n",
       "      <th>content_blob_polarity</th>\n",
       "      <th>content_subjectivity</th>\n",
       "      <th>...</th>\n",
       "      <th>time</th>\n",
       "      <th>work</th>\n",
       "      <th>achieve</th>\n",
       "      <th>leisure</th>\n",
       "      <th>home</th>\n",
       "      <th>money</th>\n",
       "      <th>relig</th>\n",
       "      <th>death</th>\n",
       "      <th>verb</th>\n",
       "      <th>negate</th>\n",
       "    </tr>\n",
       "  </thead>\n",
       "  <tbody>\n",
       "    <tr>\n",
       "      <th>0</th>\n",
       "      <td>0</td>\n",
       "      <td>LAW ENFORCEMENT ON HIGH ALERT Following Threat...</td>\n",
       "      <td>LAW ENFORCEMENT ON HIGH ALERT Following Threat...</td>\n",
       "      <td>No comment is expected from Barack Obama Membe...</td>\n",
       "      <td>1</td>\n",
       "      <td>0.08</td>\n",
       "      <td>0.32</td>\n",
       "      <td>1</td>\n",
       "      <td>0.034641</td>\n",
       "      <td>0.296824</td>\n",
       "      <td>...</td>\n",
       "      <td>0.044039</td>\n",
       "      <td>0.009667</td>\n",
       "      <td>0.011815</td>\n",
       "      <td>0.019334</td>\n",
       "      <td>0.001074</td>\n",
       "      <td>0.001074</td>\n",
       "      <td>0.001074</td>\n",
       "      <td>0.017186</td>\n",
       "      <td>0.121375</td>\n",
       "      <td>0.001074</td>\n",
       "    </tr>\n",
       "    <tr>\n",
       "      <th>1</th>\n",
       "      <td>1</td>\n",
       "      <td>Did they post their votes for Hillary already?</td>\n",
       "      <td></td>\n",
       "      <td>Did they post their votes for Hillary already?</td>\n",
       "      <td>1</td>\n",
       "      <td>0.00</td>\n",
       "      <td>0.00</td>\n",
       "      <td>0</td>\n",
       "      <td>0.000000</td>\n",
       "      <td>0.000000</td>\n",
       "      <td>...</td>\n",
       "      <td>0.125000</td>\n",
       "      <td>0.000000</td>\n",
       "      <td>0.000000</td>\n",
       "      <td>0.000000</td>\n",
       "      <td>0.000000</td>\n",
       "      <td>0.000000</td>\n",
       "      <td>0.000000</td>\n",
       "      <td>0.000000</td>\n",
       "      <td>0.125000</td>\n",
       "      <td>0.000000</td>\n",
       "    </tr>\n",
       "  </tbody>\n",
       "</table>\n",
       "<p>2 rows × 55 columns</p>\n",
       "</div>"
      ],
      "text/plain": [
       "   Unnamed: 0                                      clean_content  \\\n",
       "0           0  LAW ENFORCEMENT ON HIGH ALERT Following Threat...   \n",
       "1           1     Did they post their votes for Hillary already?   \n",
       "\n",
       "                                         clean_title  \\\n",
       "0  LAW ENFORCEMENT ON HIGH ALERT Following Threat...   \n",
       "1                                                      \n",
       "\n",
       "                                          clean_text  label  \\\n",
       "0  No comment is expected from Barack Obama Membe...      1   \n",
       "1     Did they post their votes for Hillary already?      1   \n",
       "\n",
       "   titletext_blob_polarity  titletext_blob_subjectivity  \\\n",
       "0                     0.08                         0.32   \n",
       "1                     0.00                         0.00   \n",
       "\n",
       "   title_sentiment_label  content_blob_polarity  content_subjectivity  ...  \\\n",
       "0                      1               0.034641              0.296824  ...   \n",
       "1                      0               0.000000              0.000000  ...   \n",
       "\n",
       "       time      work   achieve   leisure      home     money     relig  \\\n",
       "0  0.044039  0.009667  0.011815  0.019334  0.001074  0.001074  0.001074   \n",
       "1  0.125000  0.000000  0.000000  0.000000  0.000000  0.000000  0.000000   \n",
       "\n",
       "      death      verb    negate  \n",
       "0  0.017186  0.121375  0.001074  \n",
       "1  0.000000  0.125000  0.000000  \n",
       "\n",
       "[2 rows x 55 columns]"
      ]
     },
     "execution_count": 5,
     "metadata": {},
     "output_type": "execute_result"
    }
   ],
   "source": [
    "# combine the dataframes\n",
    "df2_selected = df2.iloc[:, 2:]\n",
    "\n",
    "# Concatenate df1 and df2_selected horizontally\n",
    "combined_df = pd.concat([df, df2_selected], axis=1)\n",
    "\n",
    "combined_df.head(2)"
   ]
  },
  {
   "cell_type": "code",
   "execution_count": 6,
   "id": "e9c198f5",
   "metadata": {},
   "outputs": [],
   "source": [
    "combined_df= combined_df.drop(\"Unnamed: 0\", axis=1)"
   ]
  },
  {
   "cell_type": "code",
   "execution_count": 7,
   "id": "081244b5",
   "metadata": {},
   "outputs": [],
   "source": [
    "#combined_df.to_csv(\"WELFake_combinedLA&SAfeatures.csv\")"
   ]
  },
  {
   "cell_type": "code",
   "execution_count": 7,
   "id": "f17bd2b4",
   "metadata": {},
   "outputs": [
    {
     "data": {
      "text/html": [
       "<div>\n",
       "<style scoped>\n",
       "    .dataframe tbody tr th:only-of-type {\n",
       "        vertical-align: middle;\n",
       "    }\n",
       "\n",
       "    .dataframe tbody tr th {\n",
       "        vertical-align: top;\n",
       "    }\n",
       "\n",
       "    .dataframe thead th {\n",
       "        text-align: right;\n",
       "    }\n",
       "</style>\n",
       "<table border=\"1\" class=\"dataframe\">\n",
       "  <thead>\n",
       "    <tr style=\"text-align: right;\">\n",
       "      <th></th>\n",
       "      <th>clean_content</th>\n",
       "      <th>clean_title</th>\n",
       "      <th>clean_text</th>\n",
       "      <th>label</th>\n",
       "      <th>titletext_blob_polarity</th>\n",
       "      <th>titletext_blob_subjectivity</th>\n",
       "      <th>title_sentiment_label</th>\n",
       "      <th>content_blob_polarity</th>\n",
       "      <th>content_subjectivity</th>\n",
       "      <th>content_sentiment_label</th>\n",
       "      <th>...</th>\n",
       "      <th>time</th>\n",
       "      <th>work</th>\n",
       "      <th>achieve</th>\n",
       "      <th>leisure</th>\n",
       "      <th>home</th>\n",
       "      <th>money</th>\n",
       "      <th>relig</th>\n",
       "      <th>death</th>\n",
       "      <th>verb</th>\n",
       "      <th>negate</th>\n",
       "    </tr>\n",
       "  </thead>\n",
       "  <tbody>\n",
       "    <tr>\n",
       "      <th>0</th>\n",
       "      <td>LAW ENFORCEMENT ON HIGH ALERT Following Threat...</td>\n",
       "      <td>LAW ENFORCEMENT ON HIGH ALERT Following Threat...</td>\n",
       "      <td>No comment is expected from Barack Obama Membe...</td>\n",
       "      <td>1</td>\n",
       "      <td>0.08</td>\n",
       "      <td>0.32</td>\n",
       "      <td>1</td>\n",
       "      <td>0.034641</td>\n",
       "      <td>0.296824</td>\n",
       "      <td>1</td>\n",
       "      <td>...</td>\n",
       "      <td>0.044039</td>\n",
       "      <td>0.009667</td>\n",
       "      <td>0.011815</td>\n",
       "      <td>0.019334</td>\n",
       "      <td>0.001074</td>\n",
       "      <td>0.001074</td>\n",
       "      <td>0.001074</td>\n",
       "      <td>0.017186</td>\n",
       "      <td>0.121375</td>\n",
       "      <td>0.001074</td>\n",
       "    </tr>\n",
       "    <tr>\n",
       "      <th>1</th>\n",
       "      <td>Did they post their votes for Hillary already?</td>\n",
       "      <td></td>\n",
       "      <td>Did they post their votes for Hillary already?</td>\n",
       "      <td>1</td>\n",
       "      <td>0.00</td>\n",
       "      <td>0.00</td>\n",
       "      <td>0</td>\n",
       "      <td>0.000000</td>\n",
       "      <td>0.000000</td>\n",
       "      <td>0</td>\n",
       "      <td>...</td>\n",
       "      <td>0.125000</td>\n",
       "      <td>0.000000</td>\n",
       "      <td>0.000000</td>\n",
       "      <td>0.000000</td>\n",
       "      <td>0.000000</td>\n",
       "      <td>0.000000</td>\n",
       "      <td>0.000000</td>\n",
       "      <td>0.000000</td>\n",
       "      <td>0.125000</td>\n",
       "      <td>0.000000</td>\n",
       "    </tr>\n",
       "  </tbody>\n",
       "</table>\n",
       "<p>2 rows × 54 columns</p>\n",
       "</div>"
      ],
      "text/plain": [
       "                                       clean_content  \\\n",
       "0  LAW ENFORCEMENT ON HIGH ALERT Following Threat...   \n",
       "1     Did they post their votes for Hillary already?   \n",
       "\n",
       "                                         clean_title  \\\n",
       "0  LAW ENFORCEMENT ON HIGH ALERT Following Threat...   \n",
       "1                                                      \n",
       "\n",
       "                                          clean_text  label  \\\n",
       "0  No comment is expected from Barack Obama Membe...      1   \n",
       "1     Did they post their votes for Hillary already?      1   \n",
       "\n",
       "   titletext_blob_polarity  titletext_blob_subjectivity  \\\n",
       "0                     0.08                         0.32   \n",
       "1                     0.00                         0.00   \n",
       "\n",
       "   title_sentiment_label  content_blob_polarity  content_subjectivity  \\\n",
       "0                      1               0.034641              0.296824   \n",
       "1                      0               0.000000              0.000000   \n",
       "\n",
       "   content_sentiment_label  ...      time      work   achieve   leisure  \\\n",
       "0                        1  ...  0.044039  0.009667  0.011815  0.019334   \n",
       "1                        0  ...  0.125000  0.000000  0.000000  0.000000   \n",
       "\n",
       "       home     money     relig     death      verb    negate  \n",
       "0  0.001074  0.001074  0.001074  0.017186  0.121375  0.001074  \n",
       "1  0.000000  0.000000  0.000000  0.000000  0.125000  0.000000  \n",
       "\n",
       "[2 rows x 54 columns]"
      ]
     },
     "execution_count": 7,
     "metadata": {},
     "output_type": "execute_result"
    }
   ],
   "source": [
    "combined_df.head(2)"
   ]
  },
  {
   "cell_type": "markdown",
   "id": "17b9ce1c",
   "metadata": {},
   "source": [
    "## Get word vectors for model building"
   ]
  },
  {
   "cell_type": "code",
   "execution_count": 8,
   "id": "aefb5fc4",
   "metadata": {},
   "outputs": [],
   "source": [
    "#Using Tfidf on clean_title first \n",
    "from sklearn.feature_extraction.text import TfidfVectorizer\n",
    "\n",
    "# # log the time\n",
    "# import time\n",
    "# start_time = time.time()\n",
    "\n",
    "tfidf_vectorizer = TfidfVectorizer()\n",
    "X = tfidf_vectorizer.fit_transform(combined_df['clean_content'])\n",
    "\n",
    "# # log the time\n",
    "# end_time = time.time()\n",
    "\n",
    "# print(f\"Total runtime of the vectoriser is {(end_time - start_time)/60} minutes.\")"
   ]
  },
  {
   "cell_type": "code",
   "execution_count": 9,
   "id": "5836bd3f",
   "metadata": {},
   "outputs": [
    {
     "data": {
      "text/html": [
       "<div>\n",
       "<style scoped>\n",
       "    .dataframe tbody tr th:only-of-type {\n",
       "        vertical-align: middle;\n",
       "    }\n",
       "\n",
       "    .dataframe tbody tr th {\n",
       "        vertical-align: top;\n",
       "    }\n",
       "\n",
       "    .dataframe thead th {\n",
       "        text-align: right;\n",
       "    }\n",
       "</style>\n",
       "<table border=\"1\" class=\"dataframe\">\n",
       "  <thead>\n",
       "    <tr style=\"text-align: right;\">\n",
       "      <th></th>\n",
       "      <th>content_blob_polarity</th>\n",
       "      <th>content_subjectivity</th>\n",
       "      <th>content_sentiment_label</th>\n",
       "    </tr>\n",
       "  </thead>\n",
       "  <tbody>\n",
       "    <tr>\n",
       "      <th>0</th>\n",
       "      <td>0.034641</td>\n",
       "      <td>0.296824</td>\n",
       "      <td>1</td>\n",
       "    </tr>\n",
       "    <tr>\n",
       "      <th>1</th>\n",
       "      <td>0.000000</td>\n",
       "      <td>0.000000</td>\n",
       "      <td>0</td>\n",
       "    </tr>\n",
       "  </tbody>\n",
       "</table>\n",
       "</div>"
      ],
      "text/plain": [
       "   content_blob_polarity  content_subjectivity  content_sentiment_label\n",
       "0               0.034641              0.296824                        1\n",
       "1               0.000000              0.000000                        0"
      ]
     },
     "execution_count": 9,
     "metadata": {},
     "output_type": "execute_result"
    }
   ],
   "source": [
    "## Combining with Sentiment Analysis features éxtracted from 'content' column\n",
    "from scipy.sparse import hstack\n",
    "sentiment_feat = combined_df.iloc[:,7:10]\n",
    "sentiment_feat.head(2)"
   ]
  },
  {
   "cell_type": "markdown",
   "id": "887790b1",
   "metadata": {},
   "source": [
    "## Combine the TF-IDF and Sentiment Features (SF)"
   ]
  },
  {
   "cell_type": "code",
   "execution_count": 10,
   "id": "097fdffe",
   "metadata": {},
   "outputs": [
    {
     "data": {
      "text/plain": [
       "<61955x192117 sparse matrix of type '<class 'numpy.float64'>'\n",
       "\twith 16460600 stored elements in COOrdinate format>"
      ]
     },
     "execution_count": 10,
     "metadata": {},
     "output_type": "execute_result"
    }
   ],
   "source": [
    "X_SF = hstack([X, sentiment_feat])\n",
    "X_SF"
   ]
  },
  {
   "cell_type": "code",
   "execution_count": 11,
   "id": "956d5cbc",
   "metadata": {},
   "outputs": [],
   "source": [
    "# Convert X_LF to a csr_matrix\n",
    "X_SF_csr = X_SF.tocsr()\n",
    "\n",
    "# Split X_LF into two parts: one containing TF-IDF features and the other containing linguistic features\n",
    "tfidf_part = X_SF_csr[:, :X.shape[1]]\n",
    "sentiment_features = X_SF_csr[:, X.shape[1]:]"
   ]
  },
  {
   "cell_type": "markdown",
   "id": "2dccfddb",
   "metadata": {},
   "source": [
    "## Split the dataset into Train & Test - 80%, Test - 20% ratios"
   ]
  },
  {
   "cell_type": "code",
   "execution_count": 12,
   "id": "637b903c",
   "metadata": {},
   "outputs": [],
   "source": [
    "test_ratio = 0.2"
   ]
  },
  {
   "cell_type": "code",
   "execution_count": 13,
   "id": "8584349b",
   "metadata": {},
   "outputs": [],
   "source": [
    "from sklearn.model_selection import train_test_split\n",
    "# Split the selected features and labels into training and test sets\n",
    "y = combined_df['label']\n",
    "X_train, X_test, y_train, y_test = train_test_split(X_SF, y, test_size=(test_ratio), random_state=42)"
   ]
  },
  {
   "cell_type": "markdown",
   "id": "73462ee6",
   "metadata": {},
   "source": [
    "## Building Random Forest model with TF-IDF & Sentiment Features"
   ]
  },
  {
   "cell_type": "code",
   "execution_count": 18,
   "id": "82a6a4db",
   "metadata": {},
   "outputs": [
    {
     "name": "stdout",
     "output_type": "stream",
     "text": [
      "Total runtime of the grid search is 31.741450122992198 minutes.\n"
     ]
    }
   ],
   "source": [
    "from sklearn.ensemble import RandomForestClassifier\n",
    "from sklearn.model_selection import GridSearchCV\n",
    "\n",
    "# Create a RandomForestClassifier\n",
    "rf_classifier = RandomForestClassifier()\n",
    "\n",
    "# Define the parameter grid for grid search (arbitrary numbers are selected first, based on other projects)\n",
    "param_grid = {\n",
    "    'n_estimators': [100, 200],\n",
    "    'max_depth': [5, 10, 15],\n",
    "    'max_features': ['sqrt'],\n",
    "    'min_samples_split': [2, 5, 10]  # Adjusted for classification\n",
    "}\n",
    "\n",
    "# Create a GridSearchCV object\n",
    "rfgrid_search_classifier = GridSearchCV(rf_classifier, param_grid, cv=5, scoring='accuracy') \n",
    "\n",
    "# log the time\n",
    "import time\n",
    "start_time = time.time()\n",
    "\n",
    "# Fit the grid search to your data\n",
    "rfgrid_search_classifier.fit(X_train, y_train)  \n",
    "\n",
    "# log the time\n",
    "end_time = time.time()\n",
    "\n",
    "print(f\"Total runtime of the grid search is {(end_time - start_time)/60} minutes.\")\n",
    "\n",
    "# Get the best classifier from grid search\n",
    "best_rf_classifier = rfgrid_search_classifier.best_estimator_\n"
   ]
  },
  {
   "cell_type": "code",
   "execution_count": 19,
   "id": "4b5fd5fb",
   "metadata": {},
   "outputs": [
    {
     "name": "stdout",
     "output_type": "stream",
     "text": [
      "RF TRAIN Accuracy: 0.913647001856186\n",
      "RF TRAIN Precision: 0.9691270217586007\n",
      "RF TRAIN Recall: 0.8327674408076419\n",
      "RF TRAIN F1 Score: 0.8957876795714634\n",
      "RF TRAIN ROC AUC: 0.9845215782904225\n",
      "RF TRAIN Average Precision: 0.9816756631062727\n",
      "Best TRAIN Hyperparameters: {'max_depth': 15, 'max_features': 'sqrt', 'min_samples_split': 2, 'n_estimators': 200}\n"
     ]
    }
   ],
   "source": [
    "# Make predictions on the test data using the best classifier\n",
    "RF_y_train_pred = best_rf_classifier.predict(X_train)\n",
    "\n",
    "# Calculate classification metrics\n",
    "RF_accuracy = accuracy_score(y_train, RF_y_train_pred)\n",
    "RF_precision = precision_score(y_train, RF_y_train_pred)\n",
    "RF_recall = recall_score(y_train, RF_y_train_pred)\n",
    "RF_f1 = f1_score(y_train, RF_y_train_pred)\n",
    "RF_roc_auc = roc_auc_score(y_train, best_rf_classifier.predict_proba(X_train)[:, 1])\n",
    "RF_average_precision = average_precision_score(y_train, best_rf_classifier.predict_proba(X_train)[:, 1])\n",
    "\n",
    "# Print the metrics\n",
    "print(\"RF TRAIN Accuracy:\", RF_accuracy)\n",
    "print(\"RF TRAIN Precision:\", RF_precision)\n",
    "print(\"RF TRAIN Recall:\", RF_recall)\n",
    "print(\"RF TRAIN F1 Score:\", RF_f1)\n",
    "print(\"RF TRAIN ROC AUC:\", RF_roc_auc)\n",
    "print(\"RF TRAIN Average Precision:\", RF_average_precision)\n",
    "\n",
    "# Print the best hyperparameters found by grid search\n",
    "print(\"Best TRAIN Hyperparameters:\", rfgrid_search_classifier.best_params_)"
   ]
  },
  {
   "cell_type": "code",
   "execution_count": 20,
   "id": "265109db",
   "metadata": {},
   "outputs": [
    {
     "name": "stdout",
     "output_type": "stream",
     "text": [
      "RF TEST Accuracy: 0.8713478611783696\n",
      "RF TEST Precision: 0.9361888111888111\n",
      "RF TEST Recall: 0.7669172932330827\n",
      "RF TEST F1 Score: 0.843141113953946\n",
      "RF TEST ROC AUC: 0.9593736377561018\n",
      "RF TEST Average Precision: 0.9531781596066293\n",
      "Best Hyperparameters: {'max_depth': 15, 'max_features': 'sqrt', 'min_samples_split': 2, 'n_estimators': 200}\n"
     ]
    }
   ],
   "source": [
    "# Make predictions on the test data using the best classifier\n",
    "RF_y_test_pred = best_rf_classifier.predict(X_test)\n",
    "\n",
    "# Calculate classification metrics\n",
    "RF_accuracy = accuracy_score(y_test, RF_y_test_pred)\n",
    "RF_precision = precision_score(y_test, RF_y_test_pred)\n",
    "RF_recall = recall_score(y_test, RF_y_test_pred)\n",
    "RF_f1 = f1_score(y_test, RF_y_test_pred)\n",
    "RF_roc_auc = roc_auc_score(y_test, best_rf_classifier.predict_proba(X_test)[:, 1])\n",
    "RF_average_precision = average_precision_score(y_test, best_rf_classifier.predict_proba(X_test)[:, 1])\n",
    "\n",
    "# Print the metrics\n",
    "print(\"RF TEST Accuracy:\", RF_accuracy)\n",
    "print(\"RF TEST Precision:\", RF_precision)\n",
    "print(\"RF TEST Recall:\", RF_recall)\n",
    "print(\"RF TEST F1 Score:\", RF_f1)\n",
    "print(\"RF TEST ROC AUC:\", RF_roc_auc)\n",
    "print(\"RF TEST Average Precision:\", RF_average_precision)\n",
    "\n",
    "# Print the best hyperparameters found by grid search\n",
    "print(\"Best Hyperparameters:\", rfgrid_search_classifier.best_params_)"
   ]
  },
  {
   "cell_type": "code",
   "execution_count": 15,
   "id": "a972eb2f",
   "metadata": {},
   "outputs": [
    {
     "name": "stdout",
     "output_type": "stream",
     "text": [
      "Total runtime of training the model is 0.9795362750689188 minutes.\n"
     ]
    }
   ],
   "source": [
    "from sklearn.ensemble import RandomForestClassifier\n",
    "\n",
    "# Define the best parameters\n",
    "best_params = {\n",
    "    'n_estimators': 200,\n",
    "    'max_depth': 15,\n",
    "    'max_features': 'sqrt',\n",
    "    'min_samples_split': 2\n",
    "}\n",
    "\n",
    "# Create a new RandomForestClassifier with the best parameters\n",
    "best_rf_classifier = RandomForestClassifier(**best_params)\n",
    "\n",
    "# log the time\n",
    "import time\n",
    "start_time = time.time()\n",
    "\n",
    "# Fit the model to training data\n",
    "best_rf_classifier.fit(X_train, y_train)\n",
    "\n",
    "# log the time\n",
    "end_time = time.time()\n",
    "\n",
    "print(f\"Total runtime of training the model is {(end_time - start_time)/60} minutes.\")"
   ]
  },
  {
   "cell_type": "code",
   "execution_count": 19,
   "id": "56822394",
   "metadata": {},
   "outputs": [
    {
     "name": "stdout",
     "output_type": "stream",
     "text": [
      "Feature 148600: Importance = 0.031118232576071877, Type: TF-IDF, Term: said\n",
      "Feature 144234: Importance = 0.021202841411258357, Type: TF-IDF, Term: reuters\n",
      "Feature 180731: Importance = 0.015141207357168698, Type: TF-IDF, Term: via\n",
      "Feature 62687: Importance = 0.015059166196010623, Type: TF-IDF, Term: featured\n",
      "Feature 83088: Importance = 0.012425107246414798, Type: TF-IDF, Term: image\n",
      "Feature 124102: Importance = 0.011035994265768394, Type: TF-IDF, Term: on\n",
      "Feature 83098: Importance = 0.009564039634126569, Type: TF-IDF, Term: images\n",
      "Feature 169849: Importance = 0.008949749585721166, Type: TF-IDF, Term: this\n",
      "Feature 183322: Importance = 0.008908385156204443, Type: TF-IDF, Term: watch\n",
      "Feature 192115: Importance = 0.008273361735319071, Type: Sentiment, Term: content_subjectivity\n"
     ]
    }
   ],
   "source": [
    "# Get feature importances\n",
    "feature_importances = best_rf_classifier.feature_importances_\n",
    "\n",
    "# Get the indices that would sort the feature importances\n",
    "sorted_indices = feature_importances.argsort()[::-1]\n",
    "\n",
    "# Define the number of top features you want to retrieve\n",
    "top_n = 10\n",
    "\n",
    "# Get the feature names (vocabulary) corresponding to the TF-IDF features\n",
    "feature_names = tfidf_vectorizer.get_feature_names_out() \n",
    "\n",
    "# Access the known linguistic feature names from your DataFrame\n",
    "sentiment_feature_names = list(sentiment_feat.columns)\n",
    "\n",
    "# Print the top 20 features, their importances, and corresponding terms\n",
    "for i in range(top_n):\n",
    "    feature_index = sorted_indices[i]\n",
    "    importance = feature_importances[feature_index]\n",
    "    \n",
    "    # Determine if the feature is from TF-IDF or linguistic features\n",
    "    if feature_index < X.shape[1]:\n",
    "        term = feature_names[feature_index]\n",
    "        feature_type = \"TF-IDF\"\n",
    "    else:\n",
    "        term = sentiment_feature_names[feature_index - X.shape[1]]\n",
    "        feature_type = \"Sentiment\"\n",
    "    \n",
    "    print(f\"Feature {feature_index}: Importance = {importance}, Type: {feature_type}, Term: {term}\")"
   ]
  },
  {
   "cell_type": "markdown",
   "id": "398ed0d7",
   "metadata": {},
   "source": [
    "## Save/load best RF model"
   ]
  },
  {
   "cell_type": "code",
   "execution_count": 16,
   "id": "ed73f2df",
   "metadata": {},
   "outputs": [
    {
     "data": {
      "text/plain": [
       "['best_rf_classifier_modelTF-IDF_SF.pkl']"
      ]
     },
     "execution_count": 16,
     "metadata": {},
     "output_type": "execute_result"
    }
   ],
   "source": [
    "import joblib\n",
    "\n",
    "# # Save the best LightGBM classifier model to a file\n",
    "# joblib.dump(best_rf_classifier, 'best_rf_classifier_modelTF-IDF_SF.pkl')\n",
    "\n",
    "# Load the saved model\n",
    "best_rf_classifier = joblib.load('best_rf_classifier_modelTF-IDF_SF.pkl')"
   ]
  },
  {
   "cell_type": "markdown",
   "id": "d94b6e0f",
   "metadata": {},
   "source": [
    "## Build LightGBM basemodel with TF-IDF & Sentiment Features"
   ]
  },
  {
   "cell_type": "code",
   "execution_count": 22,
   "id": "eecbb879",
   "metadata": {},
   "outputs": [
    {
     "name": "stdout",
     "output_type": "stream",
     "text": [
      "Total runtime of the grid search is 114.76828529040019 minutes.\n"
     ]
    }
   ],
   "source": [
    "import lightgbm as lgb\n",
    "# Create a LightGBM classifier\n",
    "lgb_classifier = lgb.LGBMClassifier()\n",
    "\n",
    "# Define the parameter grid for grid search (arbitrary numbers are selected first, based on other projects)\n",
    "param_grid = {\n",
    "    'n_estimators': [200,230],\n",
    "    'max_depth': [15, 20],\n",
    "    'learning_rate': [0.2, 0.3],\n",
    "    'num_leaves': [20, 30]\n",
    "}\n",
    "\n",
    "# Create a GridSearchCV object\n",
    "lgbgrid_search_classifier = GridSearchCV(lgb_classifier, param_grid, cv=5, scoring='accuracy')\n",
    "\n",
    "# log the time\n",
    "import time\n",
    "start_time = time.time()\n",
    "\n",
    "# Fit the grid search to your training data\n",
    "lgbgrid_search_classifier.fit(X_train, y_train)\n",
    "\n",
    "# log the time\n",
    "end_time = time.time()\n",
    "\n",
    "print(f\"Total runtime of the grid search is {(end_time - start_time)/60} minutes.\")\n",
    "\n",
    "# Get the best classifier from grid search\n",
    "best_lgb_classifier = lgbgrid_search_classifier.best_estimator_"
   ]
  },
  {
   "cell_type": "code",
   "execution_count": 23,
   "id": "88bbf32d",
   "metadata": {},
   "outputs": [],
   "source": [
    "# pip install --upgrade pandas \"dask[complete]\"\n",
    "# if encounter error when running lgbm due to dask and pandas incompatibility. uncomment above and install if needed."
   ]
  },
  {
   "cell_type": "code",
   "execution_count": 24,
   "id": "dfb008e2",
   "metadata": {},
   "outputs": [
    {
     "name": "stdout",
     "output_type": "stream",
     "text": [
      "LGB TRAIN Accuracy: 1.0\n",
      "LGB TRAIN Precision: 1.0\n",
      "LGB TRAIN Recall: 1.0\n",
      "LGB TRAIN F1 Score: 1.0\n",
      "LGB TRAIN ROC AUC: 1.0\n",
      "LGB TRAIN Average Precision: 1.0\n",
      "Best Hyperparameters: {'learning_rate': 0.3, 'max_depth': 20, 'n_estimators': 230, 'num_leaves': 30}\n"
     ]
    }
   ],
   "source": [
    "# Make predictions on the TRAIN data using the best classifier\n",
    "lgb_y_train_pred = best_lgb_classifier.predict(X_train)\n",
    "\n",
    "# Calculate classification metrics\n",
    "lgb_accuracy = accuracy_score(y_train, lgb_y_train_pred)\n",
    "lgb_precision = precision_score(y_train, lgb_y_train_pred)\n",
    "lgb_recall = recall_score(y_train, lgb_y_train_pred)\n",
    "lgb_f1 = f1_score(y_train, lgb_y_train_pred)\n",
    "lgb_roc_auc = roc_auc_score(lgb_y_train_pred, best_lgb_classifier.predict_proba(X_train)[:, 1])\n",
    "lgb_average_precision = average_precision_score(lgb_y_train_pred, best_lgb_classifier.predict_proba(X_train)[:, 1])\n",
    "\n",
    "# Print the metrics\n",
    "print(\"LGB TRAIN Accuracy:\", lgb_accuracy)\n",
    "print(\"LGB TRAIN Precision:\", lgb_precision)\n",
    "print(\"LGB TRAIN Recall:\", lgb_recall)\n",
    "print(\"LGB TRAIN F1 Score:\", lgb_f1)\n",
    "print(\"LGB TRAIN ROC AUC:\", lgb_roc_auc)\n",
    "print(\"LGB TRAIN Average Precision:\", lgb_average_precision)\n",
    "\n",
    "# Print the best hyperparameters found by grid search\n",
    "print(\"Best Hyperparameters:\", lgbgrid_search_classifier.best_params_)"
   ]
  },
  {
   "cell_type": "code",
   "execution_count": 25,
   "id": "603d00b9",
   "metadata": {},
   "outputs": [
    {
     "name": "stdout",
     "output_type": "stream",
     "text": [
      "LGB TEST Accuracy: 0.9785310734463277\n",
      "LGB TEST Precision: 0.9777298850574713\n",
      "LGB TEST Recall: 0.974579305406373\n",
      "LGB TEST F1 Score: 0.97615205307513\n",
      "LGB TEST ROC AUC: 1.0\n",
      "LGB TEST Average Precision: 1.0\n",
      "Best Hyperparameters: {'learning_rate': 0.3, 'max_depth': 20, 'n_estimators': 230, 'num_leaves': 30}\n"
     ]
    }
   ],
   "source": [
    "# Make predictions on the TEST data using the best classifier\n",
    "lgb_y_test_pred = best_lgb_classifier.predict(X_test)\n",
    "\n",
    "# Calculate classification metrics\n",
    "test_accuracy = accuracy_score(y_test, lgb_y_test_pred)\n",
    "test_precision = precision_score(y_test, lgb_y_test_pred)\n",
    "test_recall = recall_score(y_test, lgb_y_test_pred)\n",
    "test_f1 = f1_score(y_test, lgb_y_test_pred)\n",
    "test_roc_auc = roc_auc_score(lgb_y_test_pred, best_lgb_classifier.predict_proba(X_test)[:, 1])\n",
    "test_average_precision = average_precision_score(lgb_y_test_pred, best_lgb_classifier.predict_proba(X_test)[:, 1])\n",
    "\n",
    "# Print the metrics\n",
    "print(\"LGB TEST Accuracy:\", test_accuracy)\n",
    "print(\"LGB TEST Precision:\", test_precision)\n",
    "print(\"LGB TEST Recall:\", test_recall)\n",
    "print(\"LGB TEST F1 Score:\", test_f1)\n",
    "print(\"LGB TEST ROC AUC:\", test_roc_auc)\n",
    "print(\"LGB TEST Average Precision:\", test_average_precision)\n",
    "\n",
    "# Print the best hyperparameters found by grid search\n",
    "print(\"Best Hyperparameters:\", lgbgrid_search_classifier.best_params_)"
   ]
  },
  {
   "cell_type": "code",
   "execution_count": 20,
   "id": "83546abb",
   "metadata": {},
   "outputs": [
    {
     "name": "stdout",
     "output_type": "stream",
     "text": [
      "Total runtime of the training is 1.172638463973999 minutes.\n"
     ]
    }
   ],
   "source": [
    "import lightgbm as lgb\n",
    "# Create a LightGBM classifier\n",
    "lgb_classifier = lgb.LGBMClassifier()\n",
    "\n",
    "# Define the parameter grid for grid search (arbitrary numbers are selected first, based on other projects)\n",
    "param_grid = {\n",
    "    'n_estimators': 230,\n",
    "    'max_depth': 20,\n",
    "    'learning_rate': 0.3,\n",
    "    'num_leaves': 30\n",
    "}\n",
    "\n",
    "# log the time\n",
    "import time\n",
    "start_time = time.time()\n",
    "\n",
    "# Fit the grid search to your training data\n",
    "lgb_classifier.fit(X_train, y_train)\n",
    "\n",
    "# log the time\n",
    "end_time = time.time()\n",
    "\n",
    "print(f\"Total runtime of the training is {(end_time - start_time)/60} minutes.\")"
   ]
  },
  {
   "cell_type": "code",
   "execution_count": 22,
   "id": "f4fa3d70",
   "metadata": {},
   "outputs": [
    {
     "name": "stdout",
     "output_type": "stream",
     "text": [
      "Feature 86791: Importance = 92, Type: TF-IDF, Term: is\n",
      "Feature 180731: Importance = 85, Type: TF-IDF, Term: via\n",
      "Feature 144234: Importance = 72, Type: TF-IDF, Term: reuters\n",
      "Feature 29525: Importance = 69, Type: TF-IDF, Term: breitbart\n",
      "Feature 148600: Importance = 67, Type: TF-IDF, Term: said\n",
      "Feature 78799: Importance = 62, Type: TF-IDF, Term: hillary\n",
      "Feature 178779: Importance = 59, Type: TF-IDF, Term: us\n",
      "Feature 2584: Importance = 58, Type: TF-IDF, Term: 2016\n",
      "Feature 65247: Importance = 46, Type: TF-IDF, Term: follow\n",
      "Feature 123075: Importance = 46, Type: TF-IDF, Term: october\n"
     ]
    }
   ],
   "source": [
    "# Get feature importances\n",
    "feature_importances = lgb_classifier.feature_importances_\n",
    "\n",
    "# Get the indices that would sort the feature importances\n",
    "sorted_indices = feature_importances.argsort()[::-1]\n",
    "\n",
    "# Define the number of top features you want to retrieve\n",
    "top_n = 10\n",
    "\n",
    "# Get the feature names (vocabulary) corresponding to the TF-IDF features\n",
    "feature_names = tfidf_vectorizer.get_feature_names_out() \n",
    "\n",
    "# Access the known linguistic feature names from your DataFrame\n",
    "sentiment_feature_names = list(sentiment_feat.columns)\n",
    "\n",
    "# Print the top 20 features, their importances, and corresponding terms\n",
    "for i in range(top_n):\n",
    "    feature_index = sorted_indices[i]\n",
    "    importance = feature_importances[feature_index]\n",
    "    \n",
    "    # Determine if the feature is from TF-IDF or linguistic features\n",
    "    if feature_index < X.shape[1]:\n",
    "        term = feature_names[feature_index]\n",
    "        feature_type = \"TF-IDF\"\n",
    "    else:\n",
    "        term = sentiment_feature_names[feature_index - X.shape[1]]\n",
    "        feature_type = \"Sentiment\"\n",
    "    \n",
    "    print(f\"Feature {feature_index}: Importance = {importance}, Type: {feature_type}, Term: {term}\")"
   ]
  },
  {
   "cell_type": "markdown",
   "id": "2a8087ef",
   "metadata": {},
   "source": [
    "## Save/load Best LGBM model"
   ]
  },
  {
   "cell_type": "code",
   "execution_count": 21,
   "id": "6d34796c",
   "metadata": {},
   "outputs": [
    {
     "data": {
      "text/plain": [
       "['lgb_classifier_modelTF-IDF_SF.pkl']"
      ]
     },
     "execution_count": 21,
     "metadata": {},
     "output_type": "execute_result"
    }
   ],
   "source": [
    "import joblib\n",
    "\n",
    "# # Save the best LightGBM classifier model to a file\n",
    "# joblib.dump(lgb_classifier, 'lgb_classifier_modelTF-IDF_SF.pkl')\n",
    "\n",
    "# Load the saved model\n",
    "lgb_classifier = joblib.load('lgb_classifier_modelTF-IDF_SF.pkl')"
   ]
  }
 ],
 "metadata": {
  "kernelspec": {
   "display_name": "Python 3 (ipykernel)",
   "language": "python",
   "name": "python3"
  },
  "language_info": {
   "codemirror_mode": {
    "name": "ipython",
    "version": 3
   },
   "file_extension": ".py",
   "mimetype": "text/x-python",
   "name": "python",
   "nbconvert_exporter": "python",
   "pygments_lexer": "ipython3",
   "version": "3.9.12"
  }
 },
 "nbformat": 4,
 "nbformat_minor": 5
}
